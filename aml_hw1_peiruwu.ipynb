{
 "cells": [
  {
   "cell_type": "code",
   "execution_count": 45,
   "metadata": {},
   "outputs": [],
   "source": [
    "from numpy import *\n",
    "import numpy as np\n",
    "import matplotlib.pyplot as plt\n",
    "import math\n",
    "##from mpl toolkits.mplot3d import axes3d"
   ]
  },
  {
   "cell_type": "code",
   "execution_count": 46,
   "metadata": {},
   "outputs": [],
   "source": [
    "def norm_pdf_multivariate(x, mu, sigma):\n",
    "    size = len(x)\n",
    "    if size == len(mu) and (size, size) == sigma.shape:\n",
    "        det = linalg.det(sigma)\n",
    "        if det == 0:\n",
    "            raise NameError(\"The covariance matrix can't be singular\")\n",
    "\n",
    "        norm_const = 1.0/ ( math.pow((2*pi),float(size)/2) * math.pow(det,1.0/2) )\n",
    "        x_mu = matrix(x - mu)\n",
    "        inv = sigma.I        \n",
    "        result = math.pow(math.e, -0.5 * (x_mu * inv * x_mu.T))\n",
    "        return norm_const * result\n",
    "    else:\n",
    "        raise NameError(\"The dimensions of the input don't match\")\n",
    "\n"
   ]
  },
  {
   "cell_type": "code",
   "execution_count": 47,
   "metadata": {},
   "outputs": [
    {
     "data": {
      "text/plain": [
       "0.006378411393413104"
      ]
     },
     "execution_count": 47,
     "metadata": {},
     "output_type": "execute_result"
    }
   ],
   "source": [
    "sigma = np.matrix([[2.3, 0, 0, 0],\n",
    "           [0, 1.5, 0, 0],\n",
    "           [0, 0, 1.7, 0],\n",
    "           [0, 0,   0, 2]])\n",
    "\n",
    "mu = np.array([2,3,8,10])\n",
    "\n",
    "\n",
    "x = np.array([2.1,3.5,8, 9.5])\n",
    "norm_pdf_multivariate(x, mu, sigma)\n"
   ]
  },
  {
   "cell_type": "code",
   "execution_count": 52,
   "metadata": {},
   "outputs": [
    {
     "data": {
      "image/png": "[encoded data removed]",
      "text/plain": [
       "<matplotlib.figure.Figure at 0x117be1668>"
      ]
     },
     "metadata": {},
     "output_type": "display_data"
    }
   ],
   "source": [
    "n = 100\n",
    "nbins = 10\n",
    "x = np.random.randn(n, 1)\n",
    "h = plt.hist(x, nbins)\n",
    "plt.show()"
   ]
  },
  {
   "cell_type": "code",
   "execution_count": 54,
   "metadata": {},
   "outputs": [
    {
     "data": {
      "image/png": "[encoded data removed]",
      "text/plain": [
       "<matplotlib.figure.Figure at 0x11b1eeef0>"
      ]
     },
     "metadata": {},
     "output_type": "display_data"
    }
   ],
   "source": [
    "n = 100000\n",
    "nbins = 10\n",
    "x = np.random.randn(n, 1)\n",
    "h = plt.hist(x, nbins)\n",
    "plt.show()"
   ]
  },
  {
   "cell_type": "markdown",
   "metadata": {},
   "source": [
    " a+b)\n",
    "     Good reproduction of the distribution requires large samples.\n",
    "c)\n",
    "    Too many bins produce noisy distributions.\n",
    "d)\n",
    "    Insufficient regularization: the ratio n/Nbins is too small (histogram bins are too small / too few\n",
    "samples for appropriate approximation of the distribution)."
   ]
  }
 ],
 "metadata": {
  "kernelspec": {
   "display_name": "Python 3",
   "language": "python",
   "name": "python3"
  },
  "language_info": {
   "codemirror_mode": {
    "name": "ipython",
    "version": 3
   },
   "file_extension": ".py",
   "mimetype": "text/x-python",
   "name": "python",
   "nbconvert_exporter": "python",
   "pygments_lexer": "ipython3",
   "version": "3.6.1"
  }
 },
 "nbformat": 4,
 "nbformat_minor": 2
}
